{
 "cells": [
  {
   "cell_type": "code",
   "execution_count": 4,
   "metadata": {},
   "outputs": [
    {
     "name": "stderr",
     "output_type": "stream",
     "text": [
      "Installing package into ‘/home/mzabidi/R/x86_64-pc-linux-gnu-library/3.6’\n",
      "(as ‘lib’ is unspecified)\n",
      "\n",
      "Warning message in install.packages(\"pamr\"):\n",
      "“installation of package ‘pamr’ had non-zero exit status”\n"
     ]
    }
   ],
   "source": [
    "install.packages(\"pamr\")\n",
    "\n"
   ]
  },
  {
   "cell_type": "code",
   "execution_count": 6,
   "metadata": {},
   "outputs": [
    {
     "ename": "ERROR",
     "evalue": "Error in library(pamr, lib.loc = \"/tmp/RtmpWRa8Zs/downloaded_packages\"): there is no package called ‘pamr’\n",
     "output_type": "error",
     "traceback": [
      "Error in library(pamr, lib.loc = \"/tmp/RtmpWRa8Zs/downloaded_packages\"): there is no package called ‘pamr’\nTraceback:\n",
      "1. library(pamr, lib.loc = \"/tmp/RtmpWRa8Zs/downloaded_packages\")"
     ]
    }
   ],
   "source": [
    "library(gplots)\n",
    "library(pamr,lib.loc=\"/tmp/RtmpWRa8Zs/downloaded_packages\")\n",
    "\n",
    "paste0 <- function( ..., sep=\"\" ) paste( ..., sep = sep )\n",
    "\n",
    "holder=\"/tmp/tmp.fo7JnpmbaS\""
   ]
  },
  {
   "cell_type": "code",
   "execution_count": null,
   "metadata": {},
   "outputs": [],
   "source": []
  }
 ],
 "metadata": {
  "kernelspec": {
   "display_name": "R 3.3",
   "language": "R",
   "name": "ir33"
  }
 },
 "nbformat": 4,
 "nbformat_minor": 2
}
